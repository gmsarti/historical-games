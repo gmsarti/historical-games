{
  "nbformat": 4,
  "nbformat_minor": 0,
  "metadata": {
    "colab": {
      "provenance": [],
      "mount_file_id": "1piO_YKD3L2vIv_U3mwtdm0Zf1DcROJ5j",
      "authorship_tag": "ABX9TyMTgHXhJxfBAdfWDkDirB65",
      "include_colab_link": true
    },
    "kernelspec": {
      "name": "python3",
      "display_name": "Python 3"
    },
    "language_info": {
      "name": "python"
    }
  },
  "cells": [
    {
      "cell_type": "markdown",
      "metadata": {
        "id": "view-in-github",
        "colab_type": "text"
      },
      "source": [
        "<a href=\"https://colab.research.google.com/github/gmsarti/historical-games/blob/main/jogos_historicos.ipynb\" target=\"_parent\"><img src=\"https://colab.research.google.com/assets/colab-badge.svg\" alt=\"Open In Colab\"/></a>"
      ]
    },
    {
      "cell_type": "markdown",
      "source": [
        "# Basic structure\n",
        "We will need to install some libraries for this work.\n",
        "\n",
        "I'm making this project in Google Colab and needed to use *openai<1.0.0* to make it work.\n",
        "\n",
        "You will need to set your *openai API key* in this first.\n"
      ],
      "metadata": {
        "id": "HCTmkBVKYmQB"
      }
    },
    {
      "cell_type": "code",
      "source": [
        "from IPython.display import clear_output\n",
        "\n",
        "%pip install langchain\n",
        "%pip install \"openai<1.0.0\"\n",
        "!pip install duckduckgo_search\n",
        "!pip install wikipedia\n",
        "\n",
        "\n",
        "import os\n",
        "from google.colab import userdata\n",
        "os.environ['OPENAI_API_KEY'] = userdata.get('OPENAI_API_KEY')\n",
        "\n",
        "clear_output()"
      ],
      "metadata": {
        "id": "sfU8RPpugE0s"
      },
      "execution_count": null,
      "outputs": []
    },
    {
      "cell_type": "markdown",
      "source": [
        "# Simple RAG with Langchain\n",
        "\n",
        "Here we use *ChatOpenAI* to retrieve information and later organize the information.\n",
        "\n",
        "Langchain is used here to set a custom prompt and a parser.\n",
        "\n",
        "The prompt used has been giving good results delivering a string in the format of a python dictionary. In any case I'll try to make in other way because I think I can retrieve better information with prompts specifically for the social context of the game and it's rules."
      ],
      "metadata": {
        "id": "GciqOiX1Z63H"
      }
    },
    {
      "cell_type": "code",
      "source": [
        "# IMPORTs\n",
        "from langchain.chat_models import ChatOpenAI\n",
        "from langchain.chains import LLMChain\n",
        "from langchain.prompts import(\n",
        "    PromptTemplate,\n",
        "    SystemMessagePromptTemplate,\n",
        "    HumanMessagePromptTemplate,\n",
        "    ChatPromptTemplate\n",
        ")\n",
        "from langchain.schema import BaseOutputParser\n",
        "\n",
        "\n",
        "# INSTANCIATE CHAT MODEL\n",
        "chat_model = ChatOpenAI(model_name=\"gpt-4\")\n",
        "# chat_model3 = ChatOpenAI()\n",
        "\n",
        "\n",
        "# MAKE CUSOM PROMPT\n",
        "system_template = \"\"\"\n",
        "You are a helpful assistant who returns python dictionaies with information about games.\n",
        "Given the name of the game return the following informations:\n",
        "    country: list of strings with the countries were the game is from,\n",
        "    social: string with history of the game,\n",
        "    players:interger with the number of players for that game,\n",
        "    pieces: string describing the pieces necessary for play the game,\n",
        "    rules: rules of the game.\n",
        "\n",
        "\"\"\"\n",
        "\n",
        "human_template = \"{game_name}\"\n",
        "\n",
        "system_message = SystemMessagePromptTemplate.from_template(\n",
        "    system_template\n",
        ")\n",
        "\n",
        "print(system_message)\n",
        "\n",
        "human_message = HumanMessagePromptTemplate.from_template(\n",
        "    human_template\n",
        ")\n",
        "print(human_message)\n",
        "\n",
        "prompt = ChatPromptTemplate.from_messages([\n",
        "    system_message, human_message\n",
        "])\n",
        "\n",
        "\n",
        "# MAKE PARSER\n",
        "class DictParser(BaseOutputParser):\n",
        "\n",
        "    def parse(self, text):\n",
        "        output = eval(text)\n",
        "        return output\n",
        "\n",
        "\n",
        "# INSTANCIATE AND RUN CHAIN\n",
        "chain = LLMChain(\n",
        "    llm = chat_model,\n",
        "    prompt = prompt,\n",
        "    output_parser=DictParser(),\n",
        "    verbose = False\n",
        ")\n",
        "\n",
        "print('\\n\\n')\n",
        "chain.run(\"Yoté\")"
      ],
      "metadata": {
        "colab": {
          "base_uri": "https://localhost:8080/"
        },
        "id": "XHrFWgO2RAsj",
        "outputId": "26aa71a9-25b7-4a28-ff27-fbbeefafa9a2"
      },
      "execution_count": null,
      "outputs": [
        {
          "output_type": "stream",
          "name": "stderr",
          "text": [
            "/usr/local/lib/python3.10/dist-packages/langchain_core/_api/deprecation.py:117: LangChainDeprecationWarning: The class `langchain_community.chat_models.openai.ChatOpenAI` was deprecated in langchain-community 0.0.10 and will be removed in 0.2.0. An updated version of the class exists in the langchain-openai package and should be used instead. To use it run `pip install -U langchain-openai` and import as `from langchain_openai import ChatOpenAI`.\n",
            "  warn_deprecated(\n",
            "/usr/local/lib/python3.10/dist-packages/langchain_core/_api/deprecation.py:117: LangChainDeprecationWarning: The function `run` was deprecated in LangChain 0.1.0 and will be removed in 0.2.0. Use invoke instead.\n",
            "  warn_deprecated(\n"
          ]
        },
        {
          "output_type": "stream",
          "name": "stdout",
          "text": [
            "prompt=PromptTemplate(input_variables=[], template='\\nYou are a helpful assistant who returns python dictionaies with information about games.\\nGiven the name of the game return the following informations:\\n    country: list of strings with the countries were the game is from,\\n    social: string with history of the game,\\n    players:interger with the number of players for that game,\\n    pieces: string describing the pieces necessary for play the game,\\n    rules: rules of the game.\\n\\n')\n",
            "prompt=PromptTemplate(input_variables=['game_name'], template='{game_name}')\n",
            "\n",
            "\n",
            "\n"
          ]
        },
        {
          "output_type": "execute_result",
          "data": {
            "text/plain": [
              "{'country': ['Senegal', 'Ivory Coast', 'Mali'],\n",
              " 'social': 'Yoté is a strategic board game, popular in West Africa. The game has simple rules, but deep strategy with many variations.',\n",
              " 'players': 2,\n",
              " 'pieces': 'The game is played with a 5x6 grid board and 24 pieces, 12 for each player. The pieces are usually small round disks.',\n",
              " 'rules': \"Each player begins the game with 12 pieces located on the first two rows of their side of the board. The players take turns moving one of their pieces to an empty square: Moving to an orthogonally adjacent square (not diagonally); or jumping over a piece (the player's own or the opponent's), if there is an empty square on the other side. A player captures an opponent's piece by jumping over it. The goal of the game is to capture all the opponent's pieces.\"}"
            ]
          },
          "metadata": {},
          "execution_count": 3
        }
      ]
    },
    {
      "cell_type": "markdown",
      "source": [
        "# Breaking the RAG process for optimization\n",
        "\n",
        "First step is to create a basic structure for the project."
      ],
      "metadata": {
        "id": "WfnxAz49czSq"
      }
    },
    {
      "cell_type": "code",
      "source": [
        "# IMPORTs\n",
        "from langchain.chat_models import ChatOpenAI\n",
        "from langchain.chains import LLMChain\n",
        "from langchain.prompts import(\n",
        "    PromptTemplate,\n",
        "    SystemMessagePromptTemplate,\n",
        "    HumanMessagePromptTemplate,\n",
        "    ChatPromptTemplate\n",
        ")\n",
        "from langchain.schema import BaseOutputParser\n",
        "\n",
        "\n",
        "# INSTANCIATE CHAT MODEL\n",
        "chat_model = ChatOpenAI(model_name=\"gpt-4\")\n",
        "# chat_model3 = ChatOpenAI()\n",
        "\n",
        "# MAKE PARSER\n",
        "class GameParser(BaseOutputParser):\n",
        "\n",
        "    def parse(self, text):\n",
        "        output = eval(text)\n",
        "        return output\n",
        "\n",
        "\n",
        "\n",
        "def make_prompt(prompt_text: str):\n",
        "    system_template = prompt_text\n",
        "\n",
        "    human_template = \"{game_name}\"\n",
        "\n",
        "    system_message = SystemMessagePromptTemplate.from_template(\n",
        "        system_template\n",
        "    )\n",
        "\n",
        "    print(system_message)\n",
        "\n",
        "    human_message = HumanMessagePromptTemplate.from_template(\n",
        "        human_template\n",
        "    )\n",
        "    print(human_message)\n",
        "\n",
        "    prompt = ChatPromptTemplate.from_messages([\n",
        "        system_message, human_message\n",
        "    ])\n",
        "\n",
        "    return prompt\n",
        "\n",
        "\n",
        "def rag(prompt_text: str, game_name: str, parser: bool=False):\n",
        "    if parser:\n",
        "        chain = LLMChain(\n",
        "            llm = chat_model,\n",
        "            prompt = make_prompt(prompt_text),\n",
        "            output_parser=GameParser(),\n",
        "            verbose = False\n",
        "        )\n",
        "    else:\n",
        "        chain = LLMChain(\n",
        "            llm = chat_model,\n",
        "            prompt = make_prompt(prompt_text),\n",
        "            verbose = False\n",
        "        )\n",
        "\n",
        "    print('\\n\\n')\n",
        "    return chain.run(game_name)"
      ],
      "metadata": {
        "id": "h67C6WJ6fdMs"
      },
      "execution_count": null,
      "outputs": []
    },
    {
      "cell_type": "markdown",
      "source": [
        "Let's test it...\n",
        "\n",
        "I'll use the same parameters from the first attempt."
      ],
      "metadata": {
        "id": "SdIGFQb6kcQV"
      }
    },
    {
      "cell_type": "code",
      "source": [
        "prompt_text = \"\"\"\n",
        "You are a helpful assistant who returns python dictionaies with information about games.\n",
        "Given the name of the game return the following informations:\n",
        "    country: list of strings with the countries were the game is from,\n",
        "    social: string with history of the game,\n",
        "    players:interger with the number of players for that game,\n",
        "    pieces: string describing the pieces necessary for play the game,\n",
        "    rules: rules of the game.\n",
        "\n",
        "\"\"\"\n",
        "\n",
        "rag(\n",
        "    prompt_text=prompt_text,\n",
        "    game_name='Yoté',\n",
        "    parser=True\n",
        ")"
      ],
      "metadata": {
        "colab": {
          "base_uri": "https://localhost:8080/"
        },
        "id": "l2Nsf0DljDMS",
        "outputId": "dadac093-075e-40ae-9d63-92803a2f2da9"
      },
      "execution_count": null,
      "outputs": [
        {
          "output_type": "stream",
          "name": "stdout",
          "text": [
            "prompt=PromptTemplate(input_variables=[], template=\"\\nYou are a helpful assistant who returns python dictionaies with information about games.\\nGiven the name of the game return the following informations:\\n    country: list of strings with the countries were the game is from,\\n    social: string with history of the game,\\n    players:interger with the number of players for that game,\\n    pieces: string describing the pieces necessary for play the game,\\n    rules: rules of the game.\\n\\n\\n\\n Here are some informations about the game so you can build on:\\n\\nYoté is a traditional strategy board game of West Africa, where it is a popular gambling game due to its fast pace and surprising turnarounds. A player wins by capturing all opposing pieces. Yoté is related to the game Choko.\\n\\n\\n== Rules ==\\nThe game is played on a 5×6 board, which is empty at the beginning of the game. Each player has twelve pieces in hand. Players alternate turns, with White moving first. In a move, a player may either:\\n\\nPlace a piece in hand on any empty cell of the board.\\nMove one of their pieces already on the board orthogonally to an empty adjacent cell.\\nCapture an opponent's piece if it is orthogonally adjacent to a player's piece, by jumping to the empty cell immediately beyond it. The captured piece is removed from the board, and the capturing player removes another of the opponent's pieces of his choosing from the board.The player who captures all the opponent's pieces is the winner. The game can end in a draw if both players are left with three or fewer pieces.\\n\\n\\n=== Optional rules ===\\nYoté is sometimes played using one or more additional rules:\\n\\nCaptures are never mandatory.\\nMultiple successive jumps by a piece in a single turn are permitted. After a multi-jump, the player chooses and removes from the board one piece of the opponent for each piece jumped.\\nCapturing entitles the capturing player to a bonus turn.\\nA player can jump one of their own pieces; the piece jumped remains in play.\\nIf both players are left with three or fewer pieces, the game immediately ends in a draw.\\nIf a player to move has no move available, the game ends and the player with the greater number of pieces remaining is the winner.\\n\\n\\n== References ==\\nGrunfeld, Frederic V. (1975). Games of the World. Holt, Rinehart and Winston. pp. 90–91. ISBN 0-03-015261-5.\\n\\n\\n== Further reading ==\\nPrior, Jennifer (1994). The Games of Africa. HarperCollins Children's Books. ISBN 0-694-00597-5.\\n\\n\\n== External links ==\\nYoté at The World of Abstract Games\\nYoté   at BoardGameGeek\\nYoté at Zillions of Games\\nMitra - Como jogar Yoté on YouTube (in Portuguese)\\nYoté turn based online game against real people at Bodogemu\")\n",
            "prompt=PromptTemplate(input_variables=['game_name'], template='{game_name}')\n",
            "\n",
            "\n",
            "\n"
          ]
        },
        {
          "output_type": "execute_result",
          "data": {
            "text/plain": [
              "{'country': ['West Africa'],\n",
              " 'social': 'Yoté is a traditional strategy board game of West Africa, where it is a popular gambling game due to its fast pace and surprising turnarounds. A player wins by capturing all opposing pieces. Yoté is related to the game Choko.',\n",
              " 'players': 2,\n",
              " 'pieces': 'Each player has twelve pieces in hand.',\n",
              " 'rules': \"The game is played on a 5×6 board, which is empty at the beginning of the game. Each player has twelve pieces in hand. Players alternate turns, with White moving first. In a move, a player may either:\\n\\nPlace a piece in hand on any empty cell of the board.\\nMove one of their pieces already on the board orthogonally to an empty adjacent cell.\\nCapture an opponent's piece if it is orthogonally adjacent to a player's piece, by jumping to the empty cell immediately beyond it. The captured piece is removed from the board, and the capturing player removes another of the opponent's pieces of his choosing from the board.The player who captures all the opponent's pieces is the winner. The game can end in a draw if both players are left with three or fewer pieces.\\n\\nOptional rules:\\n-Captures are never mandatory.\\n-Multiple successive jumps by a piece in a single turn are permitted. After a multi-jump, the player chooses and removes from the board one piece of the opponent for each piece jumped.\\n-Capturing entitles the capturing player to a bonus turn.\\n-A player can jump one of their own pieces; the piece jumped remains in play.\\n-If both players are left with three or fewer pieces, the game immediately ends in a draw.\\n-If a player to move has no move available, the game ends and the player with the greater number of pieces remaining is the winner.\",\n",
              " 'references': ['Grunfeld, Frederic V. (1975). Games of the World. Holt, Rinehart and Winston. pp. 90–91. ISBN 0-03-015261-5.'],\n",
              " 'further_reading': [\"Prior, Jennifer (1994). The Games of Africa. HarperCollins Children's Books. ISBN 0-694-00597-5.\"]}"
            ]
          },
          "metadata": {},
          "execution_count": 41
        }
      ]
    },
    {
      "cell_type": "markdown",
      "source": [
        "The test seems to bring good results. There is a error in the rules, but this text will be revised in the end.\n",
        "\n",
        "Now I can use the rag function in a GameGenerator class to try to improve the results."
      ],
      "metadata": {
        "id": "KcwsQqKJkh_I"
      }
    },
    {
      "cell_type": "code",
      "source": [
        "from dataclasses import dataclass\n",
        "from typing import Any, Optional, List\n",
        "from duckduckgo_search import DDGS\n",
        "from bs4 import BeautifulSoup\n",
        "import requests\n",
        "\n",
        "\n",
        "@dataclass\n",
        "class GameGenerator:\n",
        "    game_name: str\n",
        "    social: Optional[str] = None\n",
        "    rules: Optional[str] = None\n",
        "    basics: Optional[dict] = None\n",
        "    img_links: Optional[List] = None\n",
        "\n",
        "    # def make(self, game_name: str):\n",
        "    def make(self):\n",
        "        # self.game_name = game_name\n",
        "        self.basics = self.game_basics(self.game_name)\n",
        "        self.social = self.set_social(self.game_name)\n",
        "        self.rules = self.set_rules(self.game_name)\n",
        "        self.img_links = self.search_duckduckgo_images(self.game_name)\n",
        "\n",
        "        return self.basics, self.social, self.rules, self.img_links\n",
        "\n",
        "    def game_basics(self, game_name: str):\n",
        "        prompt_text = \"\"\"\n",
        "            You are a helpful assistant who returns python dictionaies with information about games.\n",
        "            You will ONLY GIVE INFORMATION YOU KNOW AND WILL NEVER MAKE STUFF UP. If you don't have the information, please, return None.\n",
        "            Given the name of the game return the following informations:\n",
        "                country: list of strings with the countries were the game is from,\n",
        "                date: string with the century when the game was created,\n",
        "                players:interger with the number of players for that game,\n",
        "                pieces: string describing the pieces necessary for play the game,\n",
        "\n",
        "                If you don't know some of this informations, please, return unknown for that information.\n",
        "                    \"\"\"\n",
        "        return rag(\n",
        "            prompt_text=prompt_text,\n",
        "            game_name=self.game_name,\n",
        "            parser=True\n",
        "        )\n",
        "\n",
        "    def set_social(self, name: str):\n",
        "        prompt_text = \"\"\"\n",
        "            You are a helpful assistant who returns python dictionaies with information about games.\n",
        "            You will ONLY GIVE INFORMATION YOU KNOW AND WILL NEVER MAKE STUFF UP. If you don't have the information, please, return None.\n",
        "            Given the name of the game return informations of social relevance about the game. Try to write 2 or 3 paragraphs about it.\n",
        "            The informations may be one or more facts like:\n",
        "                What culture used to play it?\n",
        "                There is a date of creation of this game? If not since when it's known to be played?\n",
        "                It's associated to some religion or festivity?\n",
        "                People still play this game?\n",
        "                There is any famous competition of it? Any famous player?\n",
        "                This game is mentioned in any books? If it is mentioned what is the name of the book and who is it's author?\n",
        "                    \"\"\"\n",
        "        return rag(\n",
        "            prompt_text=prompt_text,\n",
        "            game_name=self.game_name,\n",
        "        )\n",
        "\n",
        "    def set_rules(self, name: str):\n",
        "        prompt_text = \"\"\"\n",
        "            You are a helpful assistant who returns python dictionaies with information about games.\n",
        "            You will ONLY GIVE INFORMATION YOU KNOW AND WILL NEVER MAKE STUFF UP. If you don't have the information, please, return None.\n",
        "            Given the name of the game return it's rules.\n",
        "            Be very detailed about the rules informing as if you're explaining to a kid\n",
        "                    \"\"\"\n",
        "        return rag(\n",
        "            prompt_text=prompt_text,\n",
        "            game_name=self.game_name,\n",
        "        )\n",
        "\n",
        "    def search_duckduckgo_images(self, name: str):\n",
        "        d = DDGS()\n",
        "        search_results = d.images(f'tabuleiro do jogo {name}')\n",
        "\n",
        "        image_links = []\n",
        "        for result in search_results:\n",
        "            try:\n",
        "                image_link = result.get('image')\n",
        "                if image_link:\n",
        "                    image_links.append(image_link)\n",
        "            except Exception as e:\n",
        "                print(f\"Error fetching image link: {e}\")\n",
        "\n",
        "        return image_links[:6]"
      ],
      "metadata": {
        "id": "qvY1qCytaVvZ"
      },
      "execution_count": null,
      "outputs": []
    },
    {
      "cell_type": "markdown",
      "source": [
        "## DO NOT TRUST BLINDLY IN THIS INFORMATION!!!\n",
        "The code works and this is awesome!\n",
        "\n",
        "Chat-GPT gives a lot of wrong informations thought. Specially in the social description. There is important informations missing about the Yoté, but it's able to give us quite a good start."
      ],
      "metadata": {
        "id": "SY6q4VbVxXc-"
      }
    },
    {
      "cell_type": "code",
      "source": [
        "game = GameGenerator('Yoté')\n",
        "game.make()"
      ],
      "metadata": {
        "colab": {
          "base_uri": "https://localhost:8080/"
        },
        "id": "ZYSnY9S6oB82",
        "outputId": "0d63ceb9-a620-4d26-daeb-a85f1f971e6c"
      },
      "execution_count": null,
      "outputs": [
        {
          "output_type": "stream",
          "name": "stdout",
          "text": [
            "prompt=PromptTemplate(input_variables=[], template=\"\\n            You are a helpful assistant who returns python dictionaies with information about games.\\n            You will ONLY GIVE INFORMATION YOU KNOW AND WILL NEVER MAKE STUFF UP. If you don't have the information, please, return None.\\n            Given the name of the game return the following informations:\\n                country: list of strings with the countries were the game is from,\\n                date: string with the century when the game was created,\\n                players:interger with the number of players for that game,\\n                pieces: string describing the pieces necessary for play the game,\\n\\n                If you don't know some of this informations, please, return unknown for that information.\\n                    \\n\\n Here are some informations about the game so you can build on:\\n\\nYoté is a traditional strategy board game of West Africa, where it is a popular gambling game due to its fast pace and surprising turnarounds. A player wins by capturing all opposing pieces. Yoté is related to the game Choko.\\n\\n\\n== Rules ==\\nThe game is played on a 5×6 board, which is empty at the beginning of the game. Each player has twelve pieces in hand. Players alternate turns, with White moving first. In a move, a player may either:\\n\\nPlace a piece in hand on any empty cell of the board.\\nMove one of their pieces already on the board orthogonally to an empty adjacent cell.\\nCapture an opponent's piece if it is orthogonally adjacent to a player's piece, by jumping to the empty cell immediately beyond it. The captured piece is removed from the board, and the capturing player removes another of the opponent's pieces of his choosing from the board.The player who captures all the opponent's pieces is the winner. The game can end in a draw if both players are left with three or fewer pieces.\\n\\n\\n=== Optional rules ===\\nYoté is sometimes played using one or more additional rules:\\n\\nCaptures are never mandatory.\\nMultiple successive jumps by a piece in a single turn are permitted. After a multi-jump, the player chooses and removes from the board one piece of the opponent for each piece jumped.\\nCapturing entitles the capturing player to a bonus turn.\\nA player can jump one of their own pieces; the piece jumped remains in play.\\nIf both players are left with three or fewer pieces, the game immediately ends in a draw.\\nIf a player to move has no move available, the game ends and the player with the greater number of pieces remaining is the winner.\\n\\n\\n== References ==\\nGrunfeld, Frederic V. (1975). Games of the World. Holt, Rinehart and Winston. pp. 90–91. ISBN 0-03-015261-5.\\n\\n\\n== Further reading ==\\nPrior, Jennifer (1994). The Games of Africa. HarperCollins Children's Books. ISBN 0-694-00597-5.\\n\\n\\n== External links ==\\nYoté at The World of Abstract Games\\nYoté   at BoardGameGeek\\nYoté at Zillions of Games\\nMitra - Como jogar Yoté on YouTube (in Portuguese)\\nYoté turn based online game against real people at Bodogemu\")\n",
            "prompt=PromptTemplate(input_variables=['game_name'], template='{game_name}')\n",
            "\n",
            "\n",
            "\n",
            "prompt=PromptTemplate(input_variables=[], template=\"\\n            You are a helpful assistant who returns python dictionaies with information about games.\\n            You will ONLY GIVE INFORMATION YOU KNOW AND WILL NEVER MAKE STUFF UP. If you don't have the information, please, return None.\\n            Given the name of the game return informations of social relevance about the game. Try to write 2 or 3 paragraphs about it.\\n            The informations may be one or more facts like:\\n                What culture used to play it?\\n                There is a date of creation of this game? If not since when it's known to be played?\\n                It's associated to some religion or festivity?\\n                People still play this game?\\n                There is any famous competition of it? Any famous player?\\n                This game is mentioned in any books? If it is mentioned what is the name of the book and who is it's author?\\n                    \\n\\n Here are some informations about the game so you can build on:\\n\\nYoté is a traditional strategy board game of West Africa, where it is a popular gambling game due to its fast pace and surprising turnarounds. A player wins by capturing all opposing pieces. Yoté is related to the game Choko.\\n\\n\\n== Rules ==\\nThe game is played on a 5×6 board, which is empty at the beginning of the game. Each player has twelve pieces in hand. Players alternate turns, with White moving first. In a move, a player may either:\\n\\nPlace a piece in hand on any empty cell of the board.\\nMove one of their pieces already on the board orthogonally to an empty adjacent cell.\\nCapture an opponent's piece if it is orthogonally adjacent to a player's piece, by jumping to the empty cell immediately beyond it. The captured piece is removed from the board, and the capturing player removes another of the opponent's pieces of his choosing from the board.The player who captures all the opponent's pieces is the winner. The game can end in a draw if both players are left with three or fewer pieces.\\n\\n\\n=== Optional rules ===\\nYoté is sometimes played using one or more additional rules:\\n\\nCaptures are never mandatory.\\nMultiple successive jumps by a piece in a single turn are permitted. After a multi-jump, the player chooses and removes from the board one piece of the opponent for each piece jumped.\\nCapturing entitles the capturing player to a bonus turn.\\nA player can jump one of their own pieces; the piece jumped remains in play.\\nIf both players are left with three or fewer pieces, the game immediately ends in a draw.\\nIf a player to move has no move available, the game ends and the player with the greater number of pieces remaining is the winner.\\n\\n\\n== References ==\\nGrunfeld, Frederic V. (1975). Games of the World. Holt, Rinehart and Winston. pp. 90–91. ISBN 0-03-015261-5.\\n\\n\\n== Further reading ==\\nPrior, Jennifer (1994). The Games of Africa. HarperCollins Children's Books. ISBN 0-694-00597-5.\\n\\n\\n== External links ==\\nYoté at The World of Abstract Games\\nYoté   at BoardGameGeek\\nYoté at Zillions of Games\\nMitra - Como jogar Yoté on YouTube (in Portuguese)\\nYoté turn based online game against real people at Bodogemu\")\n",
            "prompt=PromptTemplate(input_variables=['game_name'], template='{game_name}')\n",
            "\n",
            "\n",
            "\n",
            "prompt=PromptTemplate(input_variables=[], template=\"\\n            You are a helpful assistant who returns python dictionaies with information about games.\\n            You will ONLY GIVE INFORMATION YOU KNOW AND WILL NEVER MAKE STUFF UP. If you don't have the information, please, return None.\\n            Given the name of the game return it's rules.\\n            Be very detailed about the rules informing as if you're explaining to a kid\\n                    \\n\\n Here are some informations about the game so you can build on:\\n\\nYoté is a traditional strategy board game of West Africa, where it is a popular gambling game due to its fast pace and surprising turnarounds. A player wins by capturing all opposing pieces. Yoté is related to the game Choko.\\n\\n\\n== Rules ==\\nThe game is played on a 5×6 board, which is empty at the beginning of the game. Each player has twelve pieces in hand. Players alternate turns, with White moving first. In a move, a player may either:\\n\\nPlace a piece in hand on any empty cell of the board.\\nMove one of their pieces already on the board orthogonally to an empty adjacent cell.\\nCapture an opponent's piece if it is orthogonally adjacent to a player's piece, by jumping to the empty cell immediately beyond it. The captured piece is removed from the board, and the capturing player removes another of the opponent's pieces of his choosing from the board.The player who captures all the opponent's pieces is the winner. The game can end in a draw if both players are left with three or fewer pieces.\\n\\n\\n=== Optional rules ===\\nYoté is sometimes played using one or more additional rules:\\n\\nCaptures are never mandatory.\\nMultiple successive jumps by a piece in a single turn are permitted. After a multi-jump, the player chooses and removes from the board one piece of the opponent for each piece jumped.\\nCapturing entitles the capturing player to a bonus turn.\\nA player can jump one of their own pieces; the piece jumped remains in play.\\nIf both players are left with three or fewer pieces, the game immediately ends in a draw.\\nIf a player to move has no move available, the game ends and the player with the greater number of pieces remaining is the winner.\\n\\n\\n== References ==\\nGrunfeld, Frederic V. (1975). Games of the World. Holt, Rinehart and Winston. pp. 90–91. ISBN 0-03-015261-5.\\n\\n\\n== Further reading ==\\nPrior, Jennifer (1994). The Games of Africa. HarperCollins Children's Books. ISBN 0-694-00597-5.\\n\\n\\n== External links ==\\nYoté at The World of Abstract Games\\nYoté   at BoardGameGeek\\nYoté at Zillions of Games\\nMitra - Como jogar Yoté on YouTube (in Portuguese)\\nYoté turn based online game against real people at Bodogemu\")\n",
            "prompt=PromptTemplate(input_variables=['game_name'], template='{game_name}')\n",
            "\n",
            "\n",
            "\n"
          ]
        },
        {
          "output_type": "execute_result",
          "data": {
            "text/plain": [
              "({'country': ['West Africa'],\n",
              "  'date': 'unknown',\n",
              "  'players': 2,\n",
              "  'pieces': 'A 5x6 board and 24 pieces, 12 for each player'},\n",
              " 'Yoté is a traditional strategy board game that originated in West Africa. It is highly popular due to its exciting pace and unpredictable turn of events. The game is often associated with gambling activities, given its competitive nature. Yoté has a relation to the game Choko, indicating a linkage in their game rules or play styles.\\n\\nThis game is played on a 5×6 board and each player begins the game with twelve pieces in hand. The objective of the game is to capture all of the opponent\\'s pieces. The players take turns, starting with the white pieces. The game allows for different kinds of moves, including placing a piece on any empty cell of the board, moving a piece already on the board to an adjacent cell, or capturing an opponent\\'s piece. There are also optional rules that allow for additional strategic layers, such as multiple successive jumps in a single turn, or capturing entitling the player to a bonus turn.\\n\\nYoté is a game that has stood the test of time, continuing to be played in the modern era. However, there doesn\\'t appear to be any specific religious or festive association with the game. The game is mentioned in several books, including \"Games of the World\" by Frederic V. Grunfeld and \"The Games of Africa\" by Jennifer Prior, underscoring its cultural significance and popularity across continents. Unfortunately, there\\'s no information about any famous competitions or players associated with this game.',\n",
              " '{\\n  \"Game\": \"Yoté\",\\n  \"Rules\": {\\n    \"Basic rules\": [\\n      \"The game is played on a 5×6 board, which is empty at the beginning. Each player has twelve pieces.\",\\n      \"Players alternate turns, with the first move made by White.\",\\n      \"In a move, a player may either place a piece in hand on any empty cell of the board or move one of their pieces already on the board orthogonally to an empty adjacent cell.\",\\n      \"A player can capture an opponent\\'s piece if it is orthogonally adjacent to the player\\'s piece, by jumping to the empty cell immediately beyond it. The captured piece is removed from the board, and the capturing player removes another of the opponent\\'s pieces of his choosing from the board.\",\\n      \"The player who captures all the opponent\\'s pieces is the winner.\",\\n      \"The game can end in a draw if both players are left with three or fewer pieces.\"\\n    ],\\n    \"Optional rules\": [\\n      \"Captures are never mandatory.\",\\n      \"Multiple successive jumps by a piece in a single turn are permitted. After a multi-jump, the player chooses and removes from the board one piece of the opponent for each piece jumped.\",\\n      \"Capturing entitles the capturing player to a bonus turn.\",\\n      \"A player can jump one of their own pieces; the piece jumped remains in play.\",\\n      \"If both players are left with three or fewer pieces, the game immediately ends in a draw.\",\\n      \"If a player to move has no move available, the game ends and the player with the greater number of pieces remaining is the winner.\"\\n    ]\\n  },\\n  \"References\": {\\n    \"Books\": [\\n      \"Grunfeld, Frederic V. (1975). Games of the World. Holt, Rinehart and Winston. pp. 90–91. ISBN 0-03-015261-5.\",\\n      \"Prior, Jennifer (1994). The Games of Africa. HarperCollins Children\\'s Books. ISBN 0-694-00597-5.\"\\n    ],\\n    \"External links\": [\\n      \"Yoté at The World of Abstract Games\",\\n      \"Yoté at BoardGameGeek\",\\n      \"Yoté at Zillions of Games\",\\n      \"Mitra - Como jogar Yoté on YouTube (in Portuguese)\",\\n      \"Yoté turn based online game against real people at Bodogemu\"\\n    ]\\n  }\\n}',\n",
              " ['https://3.bp.blogspot.com/-mMi8CB7zX0s/U2U5wY3TCiI/AAAAAAAAEbQ/LD-Hw3CCFyE/s1600/y.jpg',\n",
              "  'https://http2.mlstatic.com/yote-jogo-de-tabuleiro-em-madeira-mitra-D_NQ_NP_895145-MLB32304111755_092019-F.jpg',\n",
              "  'https://http2.mlstatic.com/yote-jogo-de-tabuleiro-em-madeira-mitra-D_NQ_NP_877616-MLB32304111756_092019-F.jpg',\n",
              "  'https://i.ytimg.com/vi/qZTJGDfTqe8/maxresdefault.jpg',\n",
              "  'https://3.bp.blogspot.com/--_esxnYYR6k/U2U5wYkcddI/AAAAAAAAEa0/Ji6lqksNqac/s1600/ya.jpg',\n",
              "  'https://img.elo7.com.br/product/zoom/2C75A90/yote-jogo-africano-de-tabuleiro-jogo-de-captura.jpg'])"
            ]
          },
          "metadata": {},
          "execution_count": 47
        }
      ]
    },
    {
      "cell_type": "markdown",
      "source": [
        "# Put the data in a .md file\n",
        "The idea here is to make an book with information about several games.\n",
        "\n",
        "For that we can store this information in a text file os a markdown file to indicate some of the layout patterns."
      ],
      "metadata": {
        "id": "DkQSByK8z5Xo"
      }
    },
    {
      "cell_type": "code",
      "source": [
        "import os\n",
        "from pathlib import Path\n",
        "\n",
        "def add_info_to_md(file_path: str, game_name:str, game_data: tuple):\n",
        "    # Create a Path object for the file\n",
        "    path = Path(file_path)\n",
        "\n",
        "    # Unpack game data\n",
        "    game_basics, social, rules, image_urls = game_data\n",
        "\n",
        "    # Prepare the image lines\n",
        "    image_lines = \"\\n\".join([f\"<img src='{url}' width='100' height='100'>\" for url in image_urls])\n",
        "\n",
        "    # Combine the title, text, and images into a single string\n",
        "    content = f\"# {game_name}\\n{social}\\n## Rules\\n{rules}\\n### Images for reference\\n{image_lines}\\n\\n\\n\"\n",
        "\n",
        "    # Check if the file exists\n",
        "    if path.exists():\n",
        "        # Open the file in append mode ('a')\n",
        "        with open(path, 'a') as f:\n",
        "            # Write the new information to the file\n",
        "            f.write(f\"\\n\\n{content}\\n\")\n",
        "    else:\n",
        "        # If the file doesn't exist, create it and write the new information\n",
        "        with open(path, 'w') as f:\n",
        "            f.write(content + \"\\n\")\n"
      ],
      "metadata": {
        "id": "EHL_ua-G96lj"
      },
      "execution_count": null,
      "outputs": []
    },
    {
      "cell_type": "code",
      "source": [
        "game_name = 'passe trappe'\n",
        "\n",
        "# game_gen = GameGenerator(game_name)\n",
        "# game = game_gen.make()\n",
        "\n",
        "add_info_to_md(\n",
        "    file_path = 'enciclopedia.md',\n",
        "    game_name = game_name,\n",
        "    game_data = game\n",
        ")"
      ],
      "metadata": {
        "id": "9PGp3Gacl_Pd"
      },
      "execution_count": null,
      "outputs": []
    },
    {
      "cell_type": "markdown",
      "source": [
        "# A batch of games\n",
        "\n",
        "There will be some games in this book. But which ones?\n",
        "\n",
        "Now is time to select the games to add.\n",
        "\n",
        "With them selected loop the code above and make your book.\n",
        "\n",
        "There is a great list of games in this [List of abstract games](https://en.wikipedia.org/wiki/List_of_abstract_strategy_games)."
      ],
      "metadata": {
        "id": "5EuyTk0d3SY3"
      }
    },
    {
      "cell_type": "code",
      "source": [
        "import json\n",
        "\n",
        "\n",
        "games = [\"Abalone\", \"Adugo\", \"Agon\", \"Alquerque\", \"Amazons\",\n",
        "         \"Arimaa\", \"Armenian checkers\", \"Asalto\", \"Astar\", \"Ataxx\",\n",
        "         \"Awithlaknakwe\", \"Awithlaknannai Mosona\", \"Bagh bandi\", \"Bagha-chall\",\n",
        "         \"Bizingo\", \"Blokus\", \"Blue and Gray\", \"Brax (game)\", \"Breakthrough\",\n",
        "         \"Breakthru\", \"Buga-shadara\", \"Butterfly\", \"Camelot\", \"Canadian checkers\",\n",
        "         \"Catch the hare (aka cercar la liebre or corner the rabbit)\",\n",
        "         \"Cathedral\", \"Chinese checkers\", \"Choko\", \"Chopsticks\", \"Cinc camins\",\n",
        "         \"Conga or celim\", \"Congo\", \"Conspirateurs\", \"Conquest\", \"Crossings\",\n",
        "         \"Crosstrack\", \"Dablot Prejjesne\", \"Dash-guti\", \"Death stacks\",\n",
        "         \"Demala diviyan keliya\", \"Diaballik\", \"Diamond\", \"Dominoes\",\n",
        "         \"Draughts (also known as checkers)\", \"Egara-guti\", \"En Gehé\",\n",
        "         \"Entropy (1977)\", \"Entropy (1994)\", \"Epaminondas\", \"Fanorona\",\n",
        "         \"Felli\", \"Fetaix\", \"Fitchneal\", \"Five-ield kono\", \"Four-field kono\",\n",
        "         \"Fox games, such as fox and geese\", \"Game of the Generals\",\n",
        "         \"Go\", \"Gol-skuish\", \"Halatafl\", \"Halma\", \"Hare games\", \"Hare & Tortoise\",\n",
        "         \"Hat diviyan keliya\", \"Hexagony\", \"High jump\", \"Hive\", \"Hnefatafl\",\n",
        "         \"Indian and jackrabbits\", \"Ingenious\", \"Irensei\", \"Isola\",\n",
        "         \"Italian Damone\", \"Jarmo\", \"Jul-gonu\", \"Jungle (dou shou qi, the game of fighting animals)\",\n",
        "         \"Kalah\", \"Kaooa\", \"Kensington\", \"Kharbaga\", \"Khet\", \"Kolowis Awithlaknannai (fighting serpents)\",\n",
        "         \"Komikan\", \"Konane\", \"Kotu Ellima\", \"L game\", \"Lau kata kati\",\n",
        "         \"Leap Frog (board game)\", \"Len Choa\", \"Liberian Queah\", \"Lines of Action\",\n",
        "         \"Lotus\", \"Ludus latrunculorum\", \"Main tapal empat\", \"Mak-yek\", \"Makonn\",\n",
        "         \"Mancala and related games\", \"Martian chess (for two to six players)\",\n",
        "         \"Meurimueng-rimueng-do\", \"Meurimueng-rimueng peuet ploh or Dam-daman or Ratti-chitti-bakri\",\n",
        "         \"Ming mang\", \"Mozaic\", \"Neutron\", \"Nim †\", \"Paddles\", \"Pasang\",\n",
        "         \"Pentagame\", \"Peralikatuma\", \"Permainan-Tabal\", \"Phutball\", \"Pretwa\",\n",
        "         \"Pulijudam\", \"Quoridor\", \"Reversi, also known as Othello\", \"Rhumb Line\",\n",
        "         \"Rhythmomachy\", \"Rimau\", \"Rimau-rimau\", \"Ringo\", \"Salta\", \"Sher-bakar\",\n",
        "         \"Sixteen soldiers (aka \\\"cows and leopards\\\" or \\\"Sholo guti\\\")\", \"Stratego\",\n",
        "         \"Sua ghin gnua (aka tigers and oxen)\", \"Surakarta\", \"Sz'swa\",\n",
        "         \"Tafl games\", \"Terhuchu\", \"Terrace\", \"Three musketeers\", \"Thud\",\n",
        "         \"Tiger and buffaloes\", \"Tuknanavuhpi\", \"Tukvnanawopi\", \"Turkish draughts\",\n",
        "         \"Ugolki\", \"Xoliba\", \"Yoté\", \"Zamma\"\n",
        "]\n",
        "\n",
        "to_be_processed = games.copy()\n",
        "done = []\n",
        "error = []\n",
        "\n",
        "# Convert the list to a JSON object\n",
        "to_be_processed_json = json.dumps(to_be_processed)"
      ],
      "metadata": {
        "id": "f4APIpzX4Lr5"
      },
      "execution_count": null,
      "outputs": []
    },
    {
      "cell_type": "code",
      "source": [
        "for game_name in games:\n",
        "\n",
        "    try:\n",
        "        game_gen = GameGenerator(game_name)\n",
        "        game_data = game_gen.make()\n",
        "\n",
        "        add_info_to_md(\n",
        "            file_path = '/content/drive/MyDrive/Colab Notebooks/MaquinaTudo/enciclopedia.md',\n",
        "            # file_path = 'enciclopedia.md',\n",
        "            game_name = game_name,\n",
        "            game_data = game_data\n",
        "        )\n",
        "\n",
        "        to_be_processed.remove(game_name)\n",
        "        done.append(game_name)\n",
        "\n",
        "    except:\n",
        "        to_be_processed.remove(game_name)\n",
        "        error.append(game_name)\n",
        "    clear_output()\n",
        "    print(f\"{game_name}\\n\\nGames to do: {len(to_be_processed)}\\nDone: {len(done)}\\nError: {len(error)}\\n\\n\\n\")"
      ],
      "metadata": {
        "colab": {
          "base_uri": "https://localhost:8080/"
        },
        "id": "VtmtIGrgSnKh",
        "outputId": "e3542c70-c4a9-4bbd-a2d6-a10340d34ac1"
      },
      "execution_count": null,
      "outputs": [
        {
          "output_type": "stream",
          "name": "stdout",
          "text": [
            "Zamma\n",
            "\n",
            "Games to do: 0\n",
            "Done: 125\n",
            "Error: 14\n",
            "\n",
            "\n",
            "\n"
          ]
        }
      ]
    }
  ]
}